{
 "cells": [
  {
   "cell_type": "markdown",
   "id": "4422e783-665e-4820-a21f-00b8d1098b9e",
   "metadata": {},
   "source": [
    "# 3. Interactive Visualisation of ESDCs\n",
    "### Duration: 30 min\n",
    "---\n",
    "\n",
    "This notebook is divided as follows:\n",
    "\n",
    "- Lexcube... TODO\n",
    "- "
   ]
  }
 ],
 "metadata": {
  "kernelspec": {
   "display_name": "Python 3 (ipykernel)",
   "language": "python",
   "name": "python3"
  },
  "language_info": {
   "codemirror_mode": {
    "name": "ipython",
    "version": 3
   },
   "file_extension": ".py",
   "mimetype": "text/x-python",
   "name": "python",
   "nbconvert_exporter": "python",
   "pygments_lexer": "ipython3",
   "version": "3.12.2"
  }
 },
 "nbformat": 4,
 "nbformat_minor": 5
}
